{
  "nbformat": 4,
  "nbformat_minor": 0,
  "metadata": {
    "colab": {
      "name": "extract_features.ipynb",
      "provenance": [],
      "collapsed_sections": []
    },
    "kernelspec": {
      "name": "python3",
      "display_name": "Python 3"
    }
  },
  "cells": [
    {
      "cell_type": "markdown",
      "metadata": {
        "id": "7Mc4ENJ3K-MS",
        "colab_type": "text"
      },
      "source": [
        "<a href=\"https://colab.research.google.com/github/baidut/extract_video_features/blob/master/demo.ipynb\" target=\"_parent\"><img src=\"https://colab.research.google.com/assets/colab-badge.svg\" alt=\"Open In Colab\"/></a>\n",
        "\n",
        "Take a look at the [repository](https://github.com/baidut/extract_video_features/) for more information"
      ]
    },
    {
      "cell_type": "markdown",
      "metadata": {
        "id": "RZXZZCwzAf2u",
        "colab_type": "text"
      },
      "source": [
        "# Run command line to extract video features\n"
      ]
    },
    {
      "cell_type": "markdown",
      "metadata": {
        "id": "6h9Kh4FUA057",
        "colab_type": "text"
      },
      "source": [
        "### Clone the repo containing source code and demo videos\n"
      ]
    },
    {
      "cell_type": "code",
      "metadata": {
        "id": "llSY8ZBl27qM",
        "colab_type": "code",
        "colab": {
          "base_uri": "https://localhost:8080/",
          "height": 120
        },
        "outputId": "eee3bd31-7db1-41d8-f830-f2ddf0c2bba6"
      },
      "source": [
        "!git clone https://github.com/baidut/extract_video_features"
      ],
      "execution_count": 1,
      "outputs": [
        {
          "output_type": "stream",
          "text": [
            "Cloning into 'extract_video_features'...\n",
            "remote: Enumerating objects: 24, done.\u001b[K\n",
            "remote: Counting objects: 100% (24/24), done.\u001b[K\n",
            "remote: Compressing objects: 100% (20/20), done.\u001b[K\n",
            "remote: Total 24 (delta 4), reused 20 (delta 3), pack-reused 0\u001b[K\n",
            "Unpacking objects: 100% (24/24), done.\n"
          ],
          "name": "stdout"
        }
      ]
    },
    {
      "cell_type": "markdown",
      "metadata": {
        "id": "NukaGHJyBHfX",
        "colab_type": "text"
      },
      "source": [
        "### Go to that folder\n"
      ]
    },
    {
      "cell_type": "code",
      "metadata": {
        "id": "IFzaV32P7FI1",
        "colab_type": "code",
        "colab": {
          "base_uri": "https://localhost:8080/",
          "height": 34
        },
        "outputId": "33412d25-cfe0-4013-87fa-a31b03d55aa3"
      },
      "source": [
        "%cd extract_video_features"
      ],
      "execution_count": 22,
      "outputs": [
        {
          "output_type": "stream",
          "text": [
            "/content/extract_video_features\n"
          ],
          "name": "stdout"
        }
      ]
    },
    {
      "cell_type": "markdown",
      "metadata": {
        "id": "S9Up_0GeBTkN",
        "colab_type": "text"
      },
      "source": [
        "### Extract video features\n",
        "\n"
      ]
    },
    {
      "cell_type": "code",
      "metadata": {
        "id": "2tKZBlMAGox6",
        "colab_type": "code",
        "colab": {
          "base_uri": "https://localhost:8080/",
          "height": 446
        },
        "outputId": "601e5f3e-fc29-4906-9f16-8a10374d4ec1"
      },
      "source": [
        "!python main.py extract-dir --help"
      ],
      "execution_count": 51,
      "outputs": [
        {
          "output_type": "stream",
          "text": [
            "Usage: main.py extract-dir [OPTIONS] IN_DIR\n",
            "\n",
            "  For each video under input directory [in_dir],\n",
            "  the program will output the feature values to\n",
            "  a \".json\" file with the same filename under\n",
            "  the output directory [out_dir].\n",
            "\n",
            "Options:\n",
            "  -o, --out_dir TEXT\n",
            "  --duration INTEGER      The duration of the\n",
            "                          cropped video (in\n",
            "                          seconds). ffmpeg will\n",
            "                          start decoding at a\n",
            "                          random position and stop\n",
            "                          decoding after\n",
            "                          [duration] seconds. Note\n",
            "                          the cropped video file\n",
            "                          will be slightly longer\n",
            "                          than the duration.\n",
            "\n",
            "  -p, --num_pool INTEGER  num of processes in\n",
            "                          parallel\n",
            "\n",
            "  --help                  Show this message and\n",
            "                          exit.\n"
          ],
          "name": "stdout"
        }
      ]
    },
    {
      "cell_type": "code",
      "metadata": {
        "id": "GXTycRSJAMM1",
        "colab_type": "code",
        "colab": {
          "base_uri": "https://localhost:8080/",
          "height": 86
        },
        "outputId": "2c5e5d3c-0a1d-4902-db35-48665191a3cd"
      },
      "source": [
        "!python main.py extract-dir -o \"output_dir\" --duration 1 -p 4 \"input_dir\""
      ],
      "execution_count": 59,
      "outputs": [
        {
          "output_type": "stream",
          "text": [
            "Parallel is enabled: num_pool = 2\n",
            "\n",
            "input_dir/3240926995.mp4: 100% 5/5 [01:26<00:00, 17.26s/it]\n",
            "5 out of 5 succeeded.\n"
          ],
          "name": "stdout"
        }
      ]
    },
    {
      "cell_type": "markdown",
      "metadata": {
        "id": "JpuEpBCmC5UL",
        "colab_type": "text"
      },
      "source": [
        "### Summary the results\n"
      ]
    },
    {
      "cell_type": "code",
      "metadata": {
        "id": "Le6kVLOLHWFE",
        "colab_type": "code",
        "colab": {
          "base_uri": "https://localhost:8080/",
          "height": 188
        },
        "outputId": "60b5d17b-c9d4-4abd-e15d-f9240477867c"
      },
      "source": [
        "!python main.py join-results --help"
      ],
      "execution_count": 52,
      "outputs": [
        {
          "output_type": "stream",
          "text": [
            "Usage: main.py join-results [OPTIONS] JSON_DIR\n",
            "\n",
            "  Merge the json files under [json_dir] to a CSV\n",
            "  file [csv_file]\n",
            "\n",
            "Options:\n",
            "  -p, --num_pool INTEGER\n",
            "  --csv_file TEXT\n",
            "  --help                  Show this message and\n",
            "                          exit.\n"
          ],
          "name": "stdout"
        }
      ]
    },
    {
      "cell_type": "code",
      "metadata": {
        "id": "JuO4reFDAL3v",
        "colab_type": "code",
        "colab": {
          "base_uri": "https://localhost:8080/",
          "height": 103
        },
        "outputId": "752a85cb-89f5-4a05-89f0-be0546bb7c54"
      },
      "source": [
        "!python main.py join-results -p 4 --csv_file \"video_features.csv\" \"output_dir\""
      ],
      "execution_count": 60,
      "outputs": [
        {
          "output_type": "stream",
          "text": [
            "5 files to be joined\n",
            "Parallel is enabled: num_pool = 4\n",
            "\n",
            "\r  0% 0/5 [00:00<?, ?it/s]\routput_dir/3240926995.json:   0% 0/5 [00:00<?, ?it/s]\routput_dir/3179649855.json:   0% 0/5 [00:00<?, ?it/s]\routput_dir/2999049224.json:   0% 0/5 [00:00<?, ?it/s]\routput_dir/3015973424.json:   0% 0/5 [00:00<?, ?it/s]\routput_dir/3218223446.json:   0% 0/5 [00:00<?, ?it/s]\routput_dir/3218223446.json: 100% 5/5 [00:00<00:00, 2555.63it/s]\n",
            "5 out of 5 succeeded.\n"
          ],
          "name": "stdout"
        }
      ]
    },
    {
      "cell_type": "code",
      "metadata": {
        "id": "Z9LfCV6dALcC",
        "colab_type": "code",
        "colab": {
          "base_uri": "https://localhost:8080/",
          "height": 374
        },
        "outputId": "2a62f725-45ae-4a36-8af1-81dad7cea945"
      },
      "source": [
        "import pandas as pd\n",
        "df = pd.read_csv('video_features.csv')\n",
        "df"
      ],
      "execution_count": 63,
      "outputs": [
        {
          "output_type": "execute_result",
          "data": {
            "text/html": [
              "<div>\n",
              "<style scoped>\n",
              "    .dataframe tbody tr th:only-of-type {\n",
              "        vertical-align: middle;\n",
              "    }\n",
              "\n",
              "    .dataframe tbody tr th {\n",
              "        vertical-align: top;\n",
              "    }\n",
              "\n",
              "    .dataframe thead th {\n",
              "        text-align: right;\n",
              "    }\n",
              "</style>\n",
              "<table border=\"1\" class=\"dataframe\">\n",
              "  <thead>\n",
              "    <tr style=\"text-align: right;\">\n",
              "      <th></th>\n",
              "      <th>f_brightness</th>\n",
              "      <th>f_contrast</th>\n",
              "      <th>f_colorfulness</th>\n",
              "      <th>f_numFaces</th>\n",
              "      <th>f_x</th>\n",
              "      <th>f_y</th>\n",
              "      <th>f_t</th>\n",
              "      <th>file</th>\n",
              "    </tr>\n",
              "  </thead>\n",
              "  <tbody>\n",
              "    <tr>\n",
              "      <th>0</th>\n",
              "      <td>[63.86612809915851, 6.786975296613833]</td>\n",
              "      <td>[84.50317372063262, 3.544557752882082]</td>\n",
              "      <td>[38.22861179064849, 2.187425684305131]</td>\n",
              "      <td>[0.8726415094339622, 0.7056420893604397]</td>\n",
              "      <td>[[34.81689635562249, 34.70962877431283, 34.472...</td>\n",
              "      <td>[[42.17115761668706, 42.77119725243129, 43.524...</td>\n",
              "      <td>[[40.95480927345388, 34.86163204548102], [39.1...</td>\n",
              "      <td>3240926995</td>\n",
              "    </tr>\n",
              "    <tr>\n",
              "      <th>1</th>\n",
              "      <td>[102.29837471667629, 13.480692501612749]</td>\n",
              "      <td>[84.9580389052202, 4.0987011285554535]</td>\n",
              "      <td>[57.32353234156957, 5.572501785502117]</td>\n",
              "      <td>[2.0364583333333335, 1.1104259497735793]</td>\n",
              "      <td>[[70.09396425098053, 67.64865112807031, 63.820...</td>\n",
              "      <td>[[61.79159994494281, 60.811851881992645, 58.96...</td>\n",
              "      <td>[[100.20129536193095, 14.095860709638318], [89...</td>\n",
              "      <td>3179649855</td>\n",
              "    </tr>\n",
              "    <tr>\n",
              "      <th>2</th>\n",
              "      <td>[105.06631651877572, 5.473336329893206]</td>\n",
              "      <td>[86.46529344548041, 1.1786580364259633]</td>\n",
              "      <td>[43.40804097475068, 1.7918296680817285]</td>\n",
              "      <td>[0.016666666666666666, 0.12801909579781015]</td>\n",
              "      <td>[[35.08300786072531, 33.86921160461678, 33.874...</td>\n",
              "      <td>[[31.446132804462465, 28.562805852944944, 29.2...</td>\n",
              "      <td>[[50.986448664158964, 35.33202748738745], [49....</td>\n",
              "      <td>2999049224</td>\n",
              "    </tr>\n",
              "    <tr>\n",
              "      <th>3</th>\n",
              "      <td>[84.93901828110162, 0.444907078143976]</td>\n",
              "      <td>[84.03880305335585, 0.464680915488949]</td>\n",
              "      <td>[44.60843678436967, 0.2188831505263485]</td>\n",
              "      <td>[0.0, 0.0]</td>\n",
              "      <td>[[14.102265179843307, 15.213474818969608, 18.1...</td>\n",
              "      <td>[[22.856103914411204, 22.60461345560303, 24.43...</td>\n",
              "      <td>[[12.535439814814813, 31.222745565558938], [12...</td>\n",
              "      <td>3015973424</td>\n",
              "    </tr>\n",
              "    <tr>\n",
              "      <th>4</th>\n",
              "      <td>[87.8645061091457, 1.541714871171006]</td>\n",
              "      <td>[65.15718336246736, 0.5309553564076033]</td>\n",
              "      <td>[45.8817789021699, 0.7243991535599609]</td>\n",
              "      <td>[0.0660377358490566, 0.24834804869977709]</td>\n",
              "      <td>[[33.07410987909096, 32.18638074518112, 32.244...</td>\n",
              "      <td>[[32.111167962380634, 31.78048904102609, 33.41...</td>\n",
              "      <td>[[41.763789426464584, 30.129140471694864], [31...</td>\n",
              "      <td>3218223446</td>\n",
              "    </tr>\n",
              "  </tbody>\n",
              "</table>\n",
              "</div>"
            ],
            "text/plain": [
              "                               f_brightness  ...        file\n",
              "0    [63.86612809915851, 6.786975296613833]  ...  3240926995\n",
              "1  [102.29837471667629, 13.480692501612749]  ...  3179649855\n",
              "2   [105.06631651877572, 5.473336329893206]  ...  2999049224\n",
              "3    [84.93901828110162, 0.444907078143976]  ...  3015973424\n",
              "4     [87.8645061091457, 1.541714871171006]  ...  3218223446\n",
              "\n",
              "[5 rows x 8 columns]"
            ]
          },
          "metadata": {
            "tags": []
          },
          "execution_count": 63
        }
      ]
    }
  ]
}